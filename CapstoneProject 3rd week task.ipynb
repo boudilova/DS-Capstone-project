{
 "cells": [
  {
   "cell_type": "code",
   "execution_count": null,
   "metadata": {},
   "outputs": [],
   "source": [
    "#import libraries\n",
    "\n",
    "import requests # library to handle requests\n",
    "import pandas as pd # library for data analsysis\n",
    "import numpy as np # library to handle data in a vectorized manner\n",
    "import random # library for random number generation"
   ]
  },
  {
   "cell_type": "markdown",
   "metadata": {},
   "source": [
    "Get data from wiki:\n",
    "take html page, cit out table with postal code data\n",
    "fit it first into list and then into the dataframe."
   ]
  },
  {
   "cell_type": "code",
   "execution_count": null,
   "metadata": {},
   "outputs": [],
   "source": [
    "#get data from wiki as html page\n",
    "url='https://en.wikipedia.org/wiki/List_of_postal_codes_of_Canada:_M'\n",
    "results = requests.get(url)\n",
    "\n",
    "#cut out postalcode table from html page\n",
    "startTable=results.text.find('<table class=\"wikitable sortable\">\\n') #where data i need starts\n",
    "EndTable=results.text.find('</table>') #where data i need ends\n",
    "tableData=results.text[startTable:EndTable]\n",
    "\n",
    "#get column header names\n",
    "tHeaders=tableData[tableData.find('<tr>\\n<th>'):tableData.find('</th></tr>')]\n",
    "tHeaders=tHeaders.replace('<tr>','').replace('</th>','').replace(\"\\n\", \"\")\n",
    "hList=tHeaders.split('<th>')\n",
    "hList.pop(0)\n",
    "\n",
    "#get table data into list\n",
    "tData=tableData[tableData.find('</th></tr>\\n')+11:tableData.find('</tr></tbody>')+5]\n",
    "tList=tData.replace(\"\\n\", \"\").split('</tr>')\n",
    "i=0\n",
    "dData=pd.DataFrame\n",
    "for n in tList:\n",
    "    tList[i]=tList[i].replace('<tr>','')\n",
    "    tList[i]=tList[i].replace('</td>','')\n",
    "    tList[i]=tList[i].split('<td>')\n",
    "    tList[i].pop(0)\n",
    "    i=i+1\n",
    "\n",
    "# create dataframe\n",
    "tList = list(filter(None, tList))",
    "dData=pd.DataFrame(tList)\n",
    "dData.columns=hList\n"
   ]
  },
  {
   "cell_type": "markdown",
   "metadata": {},
   "source": [
    "clean data :\n",
    "remove not assigned borough rows as we dont analyse them\n",
    "check not assigned neighborough to assign them borough name"
   ]
  },
  {
   "cell_type": "code",
   "execution_count": null,
   "metadata": {},
   "outputs": [],
   "source": [
    "#remove not assigned postal code to Borough\n",
    "dData = dData[dData.Borough != 'Not assigned']\n",
    "dData = dData[dData.Borough != 'None']\n",
    "\n",
    "if (dData[dData.Neighbourhood == 'Not assigned'].shape[0]==0): \n",
    "    print('no need to assign borough names to neighborough ')"
   ]
  },
  {
   "cell_type": "code",
   "execution_count": 91,
   "metadata": {},
   "outputs": [
    {
     "name": "stdout",
     "output_type": "stream",
     "text": [
      "size of dataframe is: (103, 3)\n"
     ]
    }
   ],
   "source": [
    "#get size of dataframe\n",
    "print ('size of dataframe is:', dData.shape)"
   ]
  },
  {
   "cell_type": "code",
   "execution_count": null,
   "metadata": {},
   "outputs": [],
   "source": []
  }
 ],
 "metadata": {
  "kernelspec": {
   "display_name": "Python",
   "language": "python",
   "name": "conda-env-python-py"
  },
  "language_info": {
   "codemirror_mode": {
    "name": "ipython",
    "version": 3
   },
   "file_extension": ".py",
   "mimetype": "text/x-python",
   "name": "python",
   "nbconvert_exporter": "python",
   "pygments_lexer": "ipython3",
   "version": "3.6.12"
  }
 },
 "nbformat": 4,
 "nbformat_minor": 4
}
